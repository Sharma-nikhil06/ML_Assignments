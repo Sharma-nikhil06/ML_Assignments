{
 "cells": [
  {
   "cell_type": "code",
   "execution_count": 7,
   "metadata": {},
   "outputs": [
    {
     "name": "stdout",
     "output_type": "stream",
     "text": [
      "0.0303030303030303\n"
     ]
    }
   ],
   "source": [
    "# Question 1\n",
    "def fun(a,b,c):#P(A),P(B),P(A/B)\n",
    "    return ((c*b)/a)\n",
    "print(fun((11/36),(6/36),(2/36)))#P(B/A)"
   ]
  },
  {
   "cell_type": "code",
   "execution_count": 1,
   "metadata": {},
   "outputs": [
    {
     "name": "stdout",
     "output_type": "stream",
     "text": [
      "0.5666666666666667\n"
     ]
    }
   ],
  
